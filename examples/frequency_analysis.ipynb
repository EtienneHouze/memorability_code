{
 "cells": [
  {
   "cell_type": "markdown",
   "metadata": {},
   "source": [
    "# Study of frequency analysis (not presented in the paper)"
   ]
  },
  {
   "cell_type": "markdown",
   "metadata": {},
   "source": [
    "In this study, a unique event class is randomly generated at different time. For a short perdio of time, the frequency of the event changes (from once every few days to multiple times a day). Without any further indication, memorability identifies the frequency change as memorable, given that event that occur frequently require more information to be identified than rare events (compare \"the only event last week\" with \"the 13th event of 3 days ago\")."
   ]
  },
  {
   "cell_type": "code",
   "execution_count": 4,
   "metadata": {},
   "outputs": [],
   "source": [
    "import sys\n",
    "sys.path.append(\"../\")"
   ]
  },
  {
   "cell_type": "code",
   "execution_count": 5,
   "metadata": {},
   "outputs": [],
   "source": [
    "import pandas as pd\n",
    "from abduction_memorability.event import Event, Label\n",
    "from abduction_memorability.abduction_module import SurpriseAbductionModule\n",
    "from abduction_memorability.predicate import Predicate\n",
    "from abduction_memorability.memory import Memory\n",
    "from abduction_memorability.predicate_filter import OptimizedFilter\n",
    "from abduction_memorability.helpers import Helpers\n",
    "\n",
    "from typing import Tuple\n",
    "import random\n",
    "import datetime as dt\n",
    "\n",
    "import plotly.io as pio\n",
    "import plotly.express as px\n",
    "import plotly.offline as py"
   ]
  },
  {
   "cell_type": "code",
   "execution_count": 6,
   "metadata": {},
   "outputs": [],
   "source": [
    "root_label = Label()\n",
    "\n",
    "all_events: list[Event] = []\n",
    "\n",
    "CURRENT_DAY = 200\n",
    "EPOCH_SHIFT = 1577836800\n",
    "MORE_FREQUENT = 123     # when the events become more frequent\n",
    "\n",
    "\n",
    "LOW_CHANCE = 1/(24*60*5)\n",
    "HIGH_CHANCE = 100 * LOW_CHANCE"
   ]
  },
  {
   "cell_type": "code",
   "execution_count": 7,
   "metadata": {},
   "outputs": [],
   "source": [
    "first_today = True\n",
    "for day in range(0, CURRENT_DAY):\n",
    "    first_today = True\n",
    "    for hour in range(24):\n",
    "        for minute in range(60):\n",
    "            chance = random.random()\n",
    "            if chance < LOW_CHANCE and day != MORE_FREQUENT and first_today:\n",
    "                event = Event(\n",
    "                    timestamp=day*86400 + hour * 3600 + minute * 60 + EPOCH_SHIFT,\n",
    "                    duration=10,\n",
    "                    characteristics={},\n",
    "                    label=root_label\n",
    "                )\n",
    "                all_events.append(event)\n",
    "                first_today = False\n",
    "            if chance < HIGH_CHANCE and day == MORE_FREQUENT:\n",
    "                event = Event(\n",
    "                    timestamp=day*86400 + hour * 3600 + minute * 60 + EPOCH_SHIFT,\n",
    "                    duration=10,\n",
    "                    characteristics={},\n",
    "                    label=root_label\n",
    "                )\n",
    "                all_events.append(event)\n",
    "                first_today = False"
   ]
  },
  {
   "cell_type": "code",
   "execution_count": 8,
   "metadata": {},
   "outputs": [
    {
     "data": {
      "text/plain": [
       "59"
      ]
     },
     "execution_count": 8,
     "metadata": {},
     "output_type": "execute_result"
    }
   ],
   "source": [
    "len(all_events)\n"
   ]
  },
  {
   "cell_type": "code",
   "execution_count": 9,
   "metadata": {},
   "outputs": [],
   "source": [
    "class Day(Predicate):\n",
    "    def __init__(self, mem, prog):\n",
    "        super().__init__(mem, prog)\n",
    "\n",
    "    def __call__(self, event: Event):\n",
    "        if self._prog is None:\n",
    "            return None\n",
    "        if self._prog > CURRENT_DAY:\n",
    "            return None\n",
    "        e_time = event.timestamp - EPOCH_SHIFT\n",
    "        return (e_time // 86400) == CURRENT_DAY - self._prog\n",
    "\n",
    "    def program_length(self):\n",
    "        return Helpers.bit_length(CURRENT_DAY)\n",
    "    \n",
    "    def __str__(self):\n",
    "        return f\"Day({self._prog})\"\n",
    "\n",
    "class Hour(Predicate):\n",
    "    def __init__(self, mem, prog):\n",
    "        super().__init__(mem, prog)\n",
    "    \n",
    "    def __call__(self, event: Event):\n",
    "        if self._prog is None:\n",
    "            return None\n",
    "        if self._mem.last_date() - self._mem.first_date() > dt.timedelta(days=1):\n",
    "            return None\n",
    "        if self._prog not in range(24):\n",
    "            return None\n",
    "        e_time = event.timestamp - EPOCH_SHIFT\n",
    "        return ((e_time % 86400) // 3600) == self._prog\n",
    "\n",
    "    def program_length(self):\n",
    "        return Helpers.bit_length(24)\n",
    "\n",
    "    def __str__(self):\n",
    "        return f'Hour({self._prog})'\n",
    "\n",
    "class Minute(Predicate):\n",
    "    def __init__(self, mem, prog):\n",
    "        super().__init__(mem, prog)\n",
    "    \n",
    "    def __call__(self, event: Event):\n",
    "        if self._prog is None:\n",
    "            return None\n",
    "        if self._mem.last_date() - self._mem.first_date() > dt.timedelta(hours=1):\n",
    "            return None\n",
    "        if self._prog not in range(60):\n",
    "            return None\n",
    "        e_time = event.timestamp - EPOCH_SHIFT\n",
    "        return (((e_time % 86400) % 3600) // 60) == self._prog\n",
    "\n",
    "    def program_length(self):\n",
    "        return Helpers.bit_length(60)\n",
    "\n",
    "    def __str__(self):\n",
    "        return f'Minute({self._prog})'\n",
    "\n",
    "\n",
    "class Time(Predicate):\n",
    "    def __init__(self, mem, prog):\n",
    "        super().__init__(mem, prog)\n",
    "\n",
    "    def __call__(self, event: Event):\n",
    "        if self._prog is None:\n",
    "            return None\n",
    "        if self._prog in range(CURRENT_DAY):\n",
    "            return Day(self.mem, self._prog)(event)\n",
    "        if self._prog in range(CURRENT_DAY, CURRENT_DAY*24):\n",
    "            day = self._prog / 24\n",
    "            hour = self._prog % CURRENT_DAY\n",
    "            return Day(self._mem, day)(event) and Hour(self._mem, hour)(event)\n",
    "        \n",
    "    "
   ]
  },
  {
   "cell_type": "code",
   "execution_count": 10,
   "metadata": {},
   "outputs": [],
   "source": [
    "mem = Memory(all_events)"
   ]
  },
  {
   "cell_type": "code",
   "execution_count": 11,
   "metadata": {},
   "outputs": [
    {
     "name": "stdout",
     "output_type": "stream",
     "text": [
      "25\n"
     ]
    }
   ],
   "source": [
    "# How many events in the remarkable day ?\n",
    "print(len(OptimizedFilter(Day(mem, 77))(mem)))"
   ]
  },
  {
   "cell_type": "code",
   "execution_count": 12,
   "metadata": {},
   "outputs": [
    {
     "name": "stdout",
     "output_type": "stream",
     "text": [
      "2020-07-18 11:11:00\n",
      "2020-01-04 02:30:00\n",
      "True\n"
     ]
    }
   ],
   "source": [
    "import datetime as dt\n",
    "print(mem.last_date())\n",
    "print(mem.first_date())\n",
    "print(mem.last_date() - mem.first_date() > dt.timedelta(days=1))"
   ]
  },
  {
   "cell_type": "code",
   "execution_count": 13,
   "metadata": {},
   "outputs": [
    {
     "name": "stdout",
     "output_type": "stream",
     "text": [
      "Loaded the memory with 59 items!\n",
      "Computing complexities with 4 passes\n",
      "Starting pass 0 with 1 memories to explore\n",
      "Finished pass 0 in 0.01273655891418457s.\n",
      "Improved complexity for 34 event(s)\n",
      "Starting pass 1 with 1 memories to explore\n",
      "Finished pass 1 in 0.01133108139038086s.\n",
      "Improved complexity for 9 event(s)\n",
      "Starting pass 2 with 7 memories to explore\n",
      "Finished pass 2 in 0.029204130172729492s.\n",
      "Improved complexity for 16 event(s)\n",
      "Computing surprise scores for all events !\n"
     ]
    }
   ],
   "source": [
    "module = SurpriseAbductionModule(mem,\n",
    "    predicates=[\n",
    "        Day,\n",
    "        Hour,\n",
    "        Minute\n",
    "    ])"
   ]
  },
  {
   "cell_type": "code",
   "execution_count": 14,
   "metadata": {},
   "outputs": [
    {
     "data": {
      "text/html": [
       "<div>\n",
       "<style scoped>\n",
       "    .dataframe tbody tr th:only-of-type {\n",
       "        vertical-align: middle;\n",
       "    }\n",
       "\n",
       "    .dataframe tbody tr th {\n",
       "        vertical-align: top;\n",
       "    }\n",
       "\n",
       "    .dataframe thead th {\n",
       "        text-align: right;\n",
       "    }\n",
       "</style>\n",
       "<table border=\"1\" class=\"dataframe\">\n",
       "  <thead>\n",
       "    <tr style=\"text-align: right;\">\n",
       "      <th></th>\n",
       "      <th>id</th>\n",
       "      <th>time</th>\n",
       "      <th>label</th>\n",
       "      <th>complexity</th>\n",
       "      <th>recipe</th>\n",
       "      <th>memorability</th>\n",
       "      <th>date</th>\n",
       "    </tr>\n",
       "  </thead>\n",
       "  <tbody>\n",
       "    <tr>\n",
       "      <th>0</th>\n",
       "      <td>56</td>\n",
       "      <td>1594409640</td>\n",
       "      <td>event</td>\n",
       "      <td>19.452169</td>\n",
       "      <td>[Day(9)]</td>\n",
       "      <td>11.040887</td>\n",
       "      <td>2020-07-10 19:34:00</td>\n",
       "    </tr>\n",
       "    <tr>\n",
       "      <th>1</th>\n",
       "      <td>36</td>\n",
       "      <td>1588525740</td>\n",
       "      <td>event</td>\n",
       "      <td>34.585189</td>\n",
       "      <td>[Day(77), Hour(17)]</td>\n",
       "      <td>3.643242</td>\n",
       "      <td>2020-05-03 17:09:00</td>\n",
       "    </tr>\n",
       "    <tr>\n",
       "      <th>2</th>\n",
       "      <td>53</td>\n",
       "      <td>1592335020</td>\n",
       "      <td>event</td>\n",
       "      <td>19.452169</td>\n",
       "      <td>[Day(33)]</td>\n",
       "      <td>11.040887</td>\n",
       "      <td>2020-06-16 19:17:00</td>\n",
       "    </tr>\n",
       "    <tr>\n",
       "      <th>3</th>\n",
       "      <td>31</td>\n",
       "      <td>1588516260</td>\n",
       "      <td>event</td>\n",
       "      <td>51.653115</td>\n",
       "      <td>[Day(77), Hour(14), Minute(31)]</td>\n",
       "      <td>9.186844</td>\n",
       "      <td>2020-05-03 14:31:00</td>\n",
       "    </tr>\n",
       "    <tr>\n",
       "      <th>4</th>\n",
       "      <td>3</td>\n",
       "      <td>1579410360</td>\n",
       "      <td>event</td>\n",
       "      <td>19.452169</td>\n",
       "      <td>[Day(182)]</td>\n",
       "      <td>11.040887</td>\n",
       "      <td>2020-01-19 05:06:00</td>\n",
       "    </tr>\n",
       "    <tr>\n",
       "      <th>5</th>\n",
       "      <td>5</td>\n",
       "      <td>1580101560</td>\n",
       "      <td>event</td>\n",
       "      <td>19.452169</td>\n",
       "      <td>[Day(174)]</td>\n",
       "      <td>11.040887</td>\n",
       "      <td>2020-01-27 05:06:00</td>\n",
       "    </tr>\n",
       "    <tr>\n",
       "      <th>6</th>\n",
       "      <td>45</td>\n",
       "      <td>1589448120</td>\n",
       "      <td>event</td>\n",
       "      <td>19.452169</td>\n",
       "      <td>[Day(66)]</td>\n",
       "      <td>11.040887</td>\n",
       "      <td>2020-05-14 09:22:00</td>\n",
       "    </tr>\n",
       "    <tr>\n",
       "      <th>7</th>\n",
       "      <td>55</td>\n",
       "      <td>1592556600</td>\n",
       "      <td>event</td>\n",
       "      <td>19.452169</td>\n",
       "      <td>[Day(30)]</td>\n",
       "      <td>11.040887</td>\n",
       "      <td>2020-06-19 08:50:00</td>\n",
       "    </tr>\n",
       "    <tr>\n",
       "      <th>8</th>\n",
       "      <td>49</td>\n",
       "      <td>1590656700</td>\n",
       "      <td>event</td>\n",
       "      <td>19.452169</td>\n",
       "      <td>[Day(52)]</td>\n",
       "      <td>11.040887</td>\n",
       "      <td>2020-05-28 09:05:00</td>\n",
       "    </tr>\n",
       "    <tr>\n",
       "      <th>9</th>\n",
       "      <td>12</td>\n",
       "      <td>1583096640</td>\n",
       "      <td>event</td>\n",
       "      <td>19.452169</td>\n",
       "      <td>[Day(140)]</td>\n",
       "      <td>11.040887</td>\n",
       "      <td>2020-03-01 21:04:00</td>\n",
       "    </tr>\n",
       "    <tr>\n",
       "      <th>10</th>\n",
       "      <td>15</td>\n",
       "      <td>1585197120</td>\n",
       "      <td>event</td>\n",
       "      <td>19.452169</td>\n",
       "      <td>[Day(115)]</td>\n",
       "      <td>11.040887</td>\n",
       "      <td>2020-03-26 04:32:00</td>\n",
       "    </tr>\n",
       "    <tr>\n",
       "      <th>11</th>\n",
       "      <td>24</td>\n",
       "      <td>1588489920</td>\n",
       "      <td>event</td>\n",
       "      <td>34.585189</td>\n",
       "      <td>[Day(77), Hour(7)]</td>\n",
       "      <td>3.643242</td>\n",
       "      <td>2020-05-03 07:12:00</td>\n",
       "    </tr>\n",
       "    <tr>\n",
       "      <th>12</th>\n",
       "      <td>26</td>\n",
       "      <td>1588495680</td>\n",
       "      <td>event</td>\n",
       "      <td>51.653115</td>\n",
       "      <td>[Day(77), Hour(8), Minute(48)]</td>\n",
       "      <td>9.186844</td>\n",
       "      <td>2020-05-03 08:48:00</td>\n",
       "    </tr>\n",
       "    <tr>\n",
       "      <th>13</th>\n",
       "      <td>2</td>\n",
       "      <td>1579201860</td>\n",
       "      <td>event</td>\n",
       "      <td>19.452169</td>\n",
       "      <td>[Day(185)]</td>\n",
       "      <td>11.040887</td>\n",
       "      <td>2020-01-16 19:11:00</td>\n",
       "    </tr>\n",
       "    <tr>\n",
       "      <th>14</th>\n",
       "      <td>50</td>\n",
       "      <td>1591188000</td>\n",
       "      <td>event</td>\n",
       "      <td>19.452169</td>\n",
       "      <td>[Day(46)]</td>\n",
       "      <td>11.040887</td>\n",
       "      <td>2020-06-03 12:40:00</td>\n",
       "    </tr>\n",
       "    <tr>\n",
       "      <th>15</th>\n",
       "      <td>20</td>\n",
       "      <td>1588480800</td>\n",
       "      <td>event</td>\n",
       "      <td>51.653115</td>\n",
       "      <td>[Day(77), Hour(4), Minute(40)]</td>\n",
       "      <td>9.186844</td>\n",
       "      <td>2020-05-03 04:40:00</td>\n",
       "    </tr>\n",
       "    <tr>\n",
       "      <th>16</th>\n",
       "      <td>37</td>\n",
       "      <td>1588530120</td>\n",
       "      <td>event</td>\n",
       "      <td>34.585189</td>\n",
       "      <td>[Day(77), Hour(18)]</td>\n",
       "      <td>3.643242</td>\n",
       "      <td>2020-05-03 18:22:00</td>\n",
       "    </tr>\n",
       "    <tr>\n",
       "      <th>17</th>\n",
       "      <td>44</td>\n",
       "      <td>1589347020</td>\n",
       "      <td>event</td>\n",
       "      <td>19.452169</td>\n",
       "      <td>[Day(67)]</td>\n",
       "      <td>11.040887</td>\n",
       "      <td>2020-05-13 05:17:00</td>\n",
       "    </tr>\n",
       "    <tr>\n",
       "      <th>18</th>\n",
       "      <td>52</td>\n",
       "      <td>1592157900</td>\n",
       "      <td>event</td>\n",
       "      <td>19.452169</td>\n",
       "      <td>[Day(35)]</td>\n",
       "      <td>11.040887</td>\n",
       "      <td>2020-06-14 18:05:00</td>\n",
       "    </tr>\n",
       "    <tr>\n",
       "      <th>19</th>\n",
       "      <td>17</td>\n",
       "      <td>1588304340</td>\n",
       "      <td>event</td>\n",
       "      <td>19.452169</td>\n",
       "      <td>[Day(79)]</td>\n",
       "      <td>11.040887</td>\n",
       "      <td>2020-05-01 03:39:00</td>\n",
       "    </tr>\n",
       "    <tr>\n",
       "      <th>20</th>\n",
       "      <td>38</td>\n",
       "      <td>1588534740</td>\n",
       "      <td>event</td>\n",
       "      <td>34.585189</td>\n",
       "      <td>[Day(77), Hour(19)]</td>\n",
       "      <td>3.643242</td>\n",
       "      <td>2020-05-03 19:39:00</td>\n",
       "    </tr>\n",
       "    <tr>\n",
       "      <th>21</th>\n",
       "      <td>13</td>\n",
       "      <td>1584169560</td>\n",
       "      <td>event</td>\n",
       "      <td>19.452169</td>\n",
       "      <td>[Day(127)]</td>\n",
       "      <td>11.040887</td>\n",
       "      <td>2020-03-14 07:06:00</td>\n",
       "    </tr>\n",
       "    <tr>\n",
       "      <th>22</th>\n",
       "      <td>8</td>\n",
       "      <td>1580647260</td>\n",
       "      <td>event</td>\n",
       "      <td>19.452169</td>\n",
       "      <td>[Day(168)]</td>\n",
       "      <td>11.040887</td>\n",
       "      <td>2020-02-02 12:41:00</td>\n",
       "    </tr>\n",
       "    <tr>\n",
       "      <th>23</th>\n",
       "      <td>21</td>\n",
       "      <td>1588480860</td>\n",
       "      <td>event</td>\n",
       "      <td>51.653115</td>\n",
       "      <td>[Day(77), Hour(4), Minute(41)]</td>\n",
       "      <td>9.186844</td>\n",
       "      <td>2020-05-03 04:41:00</td>\n",
       "    </tr>\n",
       "    <tr>\n",
       "      <th>24</th>\n",
       "      <td>48</td>\n",
       "      <td>1590178140</td>\n",
       "      <td>event</td>\n",
       "      <td>19.452169</td>\n",
       "      <td>[Day(58)]</td>\n",
       "      <td>11.040887</td>\n",
       "      <td>2020-05-22 20:09:00</td>\n",
       "    </tr>\n",
       "    <tr>\n",
       "      <th>25</th>\n",
       "      <td>35</td>\n",
       "      <td>1588522080</td>\n",
       "      <td>event</td>\n",
       "      <td>34.585189</td>\n",
       "      <td>[Day(77), Hour(16)]</td>\n",
       "      <td>3.643242</td>\n",
       "      <td>2020-05-03 16:08:00</td>\n",
       "    </tr>\n",
       "    <tr>\n",
       "      <th>26</th>\n",
       "      <td>43</td>\n",
       "      <td>1588644960</td>\n",
       "      <td>event</td>\n",
       "      <td>19.452169</td>\n",
       "      <td>[Day(75)]</td>\n",
       "      <td>11.040887</td>\n",
       "      <td>2020-05-05 02:16:00</td>\n",
       "    </tr>\n",
       "    <tr>\n",
       "      <th>27</th>\n",
       "      <td>47</td>\n",
       "      <td>1589963940</td>\n",
       "      <td>event</td>\n",
       "      <td>19.452169</td>\n",
       "      <td>[Day(60)]</td>\n",
       "      <td>11.040887</td>\n",
       "      <td>2020-05-20 08:39:00</td>\n",
       "    </tr>\n",
       "    <tr>\n",
       "      <th>28</th>\n",
       "      <td>58</td>\n",
       "      <td>1595063460</td>\n",
       "      <td>event</td>\n",
       "      <td>19.452169</td>\n",
       "      <td>[Day(1)]</td>\n",
       "      <td>11.040887</td>\n",
       "      <td>2020-07-18 09:11:00</td>\n",
       "    </tr>\n",
       "    <tr>\n",
       "      <th>29</th>\n",
       "      <td>39</td>\n",
       "      <td>1588540140</td>\n",
       "      <td>event</td>\n",
       "      <td>51.653115</td>\n",
       "      <td>[Day(77), Hour(21), Minute(9)]</td>\n",
       "      <td>9.186844</td>\n",
       "      <td>2020-05-03 21:09:00</td>\n",
       "    </tr>\n",
       "    <tr>\n",
       "      <th>30</th>\n",
       "      <td>46</td>\n",
       "      <td>1589801580</td>\n",
       "      <td>event</td>\n",
       "      <td>19.452169</td>\n",
       "      <td>[Day(62)]</td>\n",
       "      <td>11.040887</td>\n",
       "      <td>2020-05-18 11:33:00</td>\n",
       "    </tr>\n",
       "    <tr>\n",
       "      <th>31</th>\n",
       "      <td>51</td>\n",
       "      <td>1591414380</td>\n",
       "      <td>event</td>\n",
       "      <td>19.452169</td>\n",
       "      <td>[Day(43)]</td>\n",
       "      <td>11.040887</td>\n",
       "      <td>2020-06-06 03:33:00</td>\n",
       "    </tr>\n",
       "    <tr>\n",
       "      <th>32</th>\n",
       "      <td>6</td>\n",
       "      <td>1580322420</td>\n",
       "      <td>event</td>\n",
       "      <td>19.452169</td>\n",
       "      <td>[Day(172)]</td>\n",
       "      <td>11.040887</td>\n",
       "      <td>2020-01-29 18:27:00</td>\n",
       "    </tr>\n",
       "    <tr>\n",
       "      <th>33</th>\n",
       "      <td>11</td>\n",
       "      <td>1581975540</td>\n",
       "      <td>event</td>\n",
       "      <td>19.452169</td>\n",
       "      <td>[Day(153)]</td>\n",
       "      <td>11.040887</td>\n",
       "      <td>2020-02-17 21:39:00</td>\n",
       "    </tr>\n",
       "    <tr>\n",
       "      <th>34</th>\n",
       "      <td>18</td>\n",
       "      <td>1588468980</td>\n",
       "      <td>event</td>\n",
       "      <td>34.585189</td>\n",
       "      <td>[Day(77), Hour(1)]</td>\n",
       "      <td>3.643242</td>\n",
       "      <td>2020-05-03 01:23:00</td>\n",
       "    </tr>\n",
       "    <tr>\n",
       "      <th>35</th>\n",
       "      <td>1</td>\n",
       "      <td>1578985080</td>\n",
       "      <td>event</td>\n",
       "      <td>19.452169</td>\n",
       "      <td>[Day(187)]</td>\n",
       "      <td>11.040887</td>\n",
       "      <td>2020-01-14 06:58:00</td>\n",
       "    </tr>\n",
       "    <tr>\n",
       "      <th>36</th>\n",
       "      <td>14</td>\n",
       "      <td>1584441720</td>\n",
       "      <td>event</td>\n",
       "      <td>19.452169</td>\n",
       "      <td>[Day(124)]</td>\n",
       "      <td>11.040887</td>\n",
       "      <td>2020-03-17 10:42:00</td>\n",
       "    </tr>\n",
       "    <tr>\n",
       "      <th>37</th>\n",
       "      <td>27</td>\n",
       "      <td>1588502520</td>\n",
       "      <td>event</td>\n",
       "      <td>51.653115</td>\n",
       "      <td>[Day(77), Hour(10), Minute(42)]</td>\n",
       "      <td>9.186844</td>\n",
       "      <td>2020-05-03 10:42:00</td>\n",
       "    </tr>\n",
       "    <tr>\n",
       "      <th>38</th>\n",
       "      <td>4</td>\n",
       "      <td>1579805820</td>\n",
       "      <td>event</td>\n",
       "      <td>19.452169</td>\n",
       "      <td>[Day(178)]</td>\n",
       "      <td>11.040887</td>\n",
       "      <td>2020-01-23 18:57:00</td>\n",
       "    </tr>\n",
       "    <tr>\n",
       "      <th>39</th>\n",
       "      <td>9</td>\n",
       "      <td>1581109500</td>\n",
       "      <td>event</td>\n",
       "      <td>19.452169</td>\n",
       "      <td>[Day(163)]</td>\n",
       "      <td>11.040887</td>\n",
       "      <td>2020-02-07 21:05:00</td>\n",
       "    </tr>\n",
       "    <tr>\n",
       "      <th>40</th>\n",
       "      <td>19</td>\n",
       "      <td>1588476540</td>\n",
       "      <td>event</td>\n",
       "      <td>34.585189</td>\n",
       "      <td>[Day(77), Hour(3)]</td>\n",
       "      <td>3.643242</td>\n",
       "      <td>2020-05-03 03:29:00</td>\n",
       "    </tr>\n",
       "    <tr>\n",
       "      <th>41</th>\n",
       "      <td>29</td>\n",
       "      <td>1588503420</td>\n",
       "      <td>event</td>\n",
       "      <td>51.653115</td>\n",
       "      <td>[Day(77), Hour(10), Minute(57)]</td>\n",
       "      <td>9.186844</td>\n",
       "      <td>2020-05-03 10:57:00</td>\n",
       "    </tr>\n",
       "    <tr>\n",
       "      <th>42</th>\n",
       "      <td>34</td>\n",
       "      <td>1588519680</td>\n",
       "      <td>event</td>\n",
       "      <td>51.653115</td>\n",
       "      <td>[Day(77), Hour(15), Minute(28)]</td>\n",
       "      <td>9.186844</td>\n",
       "      <td>2020-05-03 15:28:00</td>\n",
       "    </tr>\n",
       "    <tr>\n",
       "      <th>43</th>\n",
       "      <td>40</td>\n",
       "      <td>1588542720</td>\n",
       "      <td>event</td>\n",
       "      <td>51.653115</td>\n",
       "      <td>[Day(77), Hour(21), Minute(52)]</td>\n",
       "      <td>9.186844</td>\n",
       "      <td>2020-05-03 21:52:00</td>\n",
       "    </tr>\n",
       "    <tr>\n",
       "      <th>44</th>\n",
       "      <td>41</td>\n",
       "      <td>1588548480</td>\n",
       "      <td>event</td>\n",
       "      <td>51.653115</td>\n",
       "      <td>[Day(77), Hour(23), Minute(28)]</td>\n",
       "      <td>9.186844</td>\n",
       "      <td>2020-05-03 23:28:00</td>\n",
       "    </tr>\n",
       "    <tr>\n",
       "      <th>45</th>\n",
       "      <td>30</td>\n",
       "      <td>1588510980</td>\n",
       "      <td>event</td>\n",
       "      <td>34.585189</td>\n",
       "      <td>[Day(77), Hour(13)]</td>\n",
       "      <td>3.643242</td>\n",
       "      <td>2020-05-03 13:03:00</td>\n",
       "    </tr>\n",
       "    <tr>\n",
       "      <th>46</th>\n",
       "      <td>33</td>\n",
       "      <td>1588518660</td>\n",
       "      <td>event</td>\n",
       "      <td>51.653115</td>\n",
       "      <td>[Day(77), Hour(15), Minute(11)]</td>\n",
       "      <td>9.186844</td>\n",
       "      <td>2020-05-03 15:11:00</td>\n",
       "    </tr>\n",
       "    <tr>\n",
       "      <th>47</th>\n",
       "      <td>7</td>\n",
       "      <td>1580600460</td>\n",
       "      <td>event</td>\n",
       "      <td>19.452169</td>\n",
       "      <td>[Day(169)]</td>\n",
       "      <td>11.040887</td>\n",
       "      <td>2020-02-01 23:41:00</td>\n",
       "    </tr>\n",
       "    <tr>\n",
       "      <th>48</th>\n",
       "      <td>28</td>\n",
       "      <td>1588503180</td>\n",
       "      <td>event</td>\n",
       "      <td>51.653115</td>\n",
       "      <td>[Day(77), Hour(10), Minute(53)]</td>\n",
       "      <td>9.186844</td>\n",
       "      <td>2020-05-03 10:53:00</td>\n",
       "    </tr>\n",
       "    <tr>\n",
       "      <th>49</th>\n",
       "      <td>32</td>\n",
       "      <td>1588517520</td>\n",
       "      <td>event</td>\n",
       "      <td>51.653115</td>\n",
       "      <td>[Day(77), Hour(14), Minute(52)]</td>\n",
       "      <td>9.186844</td>\n",
       "      <td>2020-05-03 14:52:00</td>\n",
       "    </tr>\n",
       "    <tr>\n",
       "      <th>50</th>\n",
       "      <td>42</td>\n",
       "      <td>1588550160</td>\n",
       "      <td>event</td>\n",
       "      <td>51.653115</td>\n",
       "      <td>[Day(77), Hour(23), Minute(56)]</td>\n",
       "      <td>9.186844</td>\n",
       "      <td>2020-05-03 23:56:00</td>\n",
       "    </tr>\n",
       "    <tr>\n",
       "      <th>51</th>\n",
       "      <td>22</td>\n",
       "      <td>1588481940</td>\n",
       "      <td>event</td>\n",
       "      <td>51.653115</td>\n",
       "      <td>[Day(77), Hour(4), Minute(59)]</td>\n",
       "      <td>9.186844</td>\n",
       "      <td>2020-05-03 04:59:00</td>\n",
       "    </tr>\n",
       "    <tr>\n",
       "      <th>52</th>\n",
       "      <td>23</td>\n",
       "      <td>1588487700</td>\n",
       "      <td>event</td>\n",
       "      <td>34.585189</td>\n",
       "      <td>[Day(77), Hour(6)]</td>\n",
       "      <td>3.643242</td>\n",
       "      <td>2020-05-03 06:35:00</td>\n",
       "    </tr>\n",
       "    <tr>\n",
       "      <th>53</th>\n",
       "      <td>54</td>\n",
       "      <td>1592410260</td>\n",
       "      <td>event</td>\n",
       "      <td>19.452169</td>\n",
       "      <td>[Day(32)]</td>\n",
       "      <td>11.040887</td>\n",
       "      <td>2020-06-17 16:11:00</td>\n",
       "    </tr>\n",
       "    <tr>\n",
       "      <th>54</th>\n",
       "      <td>0</td>\n",
       "      <td>1578101400</td>\n",
       "      <td>event</td>\n",
       "      <td>19.452169</td>\n",
       "      <td>[Day(197)]</td>\n",
       "      <td>11.040887</td>\n",
       "      <td>2020-01-04 01:30:00</td>\n",
       "    </tr>\n",
       "    <tr>\n",
       "      <th>55</th>\n",
       "      <td>57</td>\n",
       "      <td>1595008920</td>\n",
       "      <td>event</td>\n",
       "      <td>19.452169</td>\n",
       "      <td>[Day(2)]</td>\n",
       "      <td>11.040887</td>\n",
       "      <td>2020-07-17 18:02:00</td>\n",
       "    </tr>\n",
       "    <tr>\n",
       "      <th>56</th>\n",
       "      <td>16</td>\n",
       "      <td>1587408540</td>\n",
       "      <td>event</td>\n",
       "      <td>19.452169</td>\n",
       "      <td>[Day(90)]</td>\n",
       "      <td>11.040887</td>\n",
       "      <td>2020-04-20 18:49:00</td>\n",
       "    </tr>\n",
       "    <tr>\n",
       "      <th>57</th>\n",
       "      <td>10</td>\n",
       "      <td>1581238560</td>\n",
       "      <td>event</td>\n",
       "      <td>19.452169</td>\n",
       "      <td>[Day(161)]</td>\n",
       "      <td>11.040887</td>\n",
       "      <td>2020-02-09 08:56:00</td>\n",
       "    </tr>\n",
       "    <tr>\n",
       "      <th>58</th>\n",
       "      <td>25</td>\n",
       "      <td>1588493220</td>\n",
       "      <td>event</td>\n",
       "      <td>51.653115</td>\n",
       "      <td>[Day(77), Hour(8), Minute(7)]</td>\n",
       "      <td>9.186844</td>\n",
       "      <td>2020-05-03 08:07:00</td>\n",
       "    </tr>\n",
       "  </tbody>\n",
       "</table>\n",
       "</div>"
      ],
      "text/plain": [
       "    id        time  label  complexity                           recipe  \\\n",
       "0   56  1594409640  event   19.452169                         [Day(9)]   \n",
       "1   36  1588525740  event   34.585189              [Day(77), Hour(17)]   \n",
       "2   53  1592335020  event   19.452169                        [Day(33)]   \n",
       "3   31  1588516260  event   51.653115  [Day(77), Hour(14), Minute(31)]   \n",
       "4    3  1579410360  event   19.452169                       [Day(182)]   \n",
       "5    5  1580101560  event   19.452169                       [Day(174)]   \n",
       "6   45  1589448120  event   19.452169                        [Day(66)]   \n",
       "7   55  1592556600  event   19.452169                        [Day(30)]   \n",
       "8   49  1590656700  event   19.452169                        [Day(52)]   \n",
       "9   12  1583096640  event   19.452169                       [Day(140)]   \n",
       "10  15  1585197120  event   19.452169                       [Day(115)]   \n",
       "11  24  1588489920  event   34.585189               [Day(77), Hour(7)]   \n",
       "12  26  1588495680  event   51.653115   [Day(77), Hour(8), Minute(48)]   \n",
       "13   2  1579201860  event   19.452169                       [Day(185)]   \n",
       "14  50  1591188000  event   19.452169                        [Day(46)]   \n",
       "15  20  1588480800  event   51.653115   [Day(77), Hour(4), Minute(40)]   \n",
       "16  37  1588530120  event   34.585189              [Day(77), Hour(18)]   \n",
       "17  44  1589347020  event   19.452169                        [Day(67)]   \n",
       "18  52  1592157900  event   19.452169                        [Day(35)]   \n",
       "19  17  1588304340  event   19.452169                        [Day(79)]   \n",
       "20  38  1588534740  event   34.585189              [Day(77), Hour(19)]   \n",
       "21  13  1584169560  event   19.452169                       [Day(127)]   \n",
       "22   8  1580647260  event   19.452169                       [Day(168)]   \n",
       "23  21  1588480860  event   51.653115   [Day(77), Hour(4), Minute(41)]   \n",
       "24  48  1590178140  event   19.452169                        [Day(58)]   \n",
       "25  35  1588522080  event   34.585189              [Day(77), Hour(16)]   \n",
       "26  43  1588644960  event   19.452169                        [Day(75)]   \n",
       "27  47  1589963940  event   19.452169                        [Day(60)]   \n",
       "28  58  1595063460  event   19.452169                         [Day(1)]   \n",
       "29  39  1588540140  event   51.653115   [Day(77), Hour(21), Minute(9)]   \n",
       "30  46  1589801580  event   19.452169                        [Day(62)]   \n",
       "31  51  1591414380  event   19.452169                        [Day(43)]   \n",
       "32   6  1580322420  event   19.452169                       [Day(172)]   \n",
       "33  11  1581975540  event   19.452169                       [Day(153)]   \n",
       "34  18  1588468980  event   34.585189               [Day(77), Hour(1)]   \n",
       "35   1  1578985080  event   19.452169                       [Day(187)]   \n",
       "36  14  1584441720  event   19.452169                       [Day(124)]   \n",
       "37  27  1588502520  event   51.653115  [Day(77), Hour(10), Minute(42)]   \n",
       "38   4  1579805820  event   19.452169                       [Day(178)]   \n",
       "39   9  1581109500  event   19.452169                       [Day(163)]   \n",
       "40  19  1588476540  event   34.585189               [Day(77), Hour(3)]   \n",
       "41  29  1588503420  event   51.653115  [Day(77), Hour(10), Minute(57)]   \n",
       "42  34  1588519680  event   51.653115  [Day(77), Hour(15), Minute(28)]   \n",
       "43  40  1588542720  event   51.653115  [Day(77), Hour(21), Minute(52)]   \n",
       "44  41  1588548480  event   51.653115  [Day(77), Hour(23), Minute(28)]   \n",
       "45  30  1588510980  event   34.585189              [Day(77), Hour(13)]   \n",
       "46  33  1588518660  event   51.653115  [Day(77), Hour(15), Minute(11)]   \n",
       "47   7  1580600460  event   19.452169                       [Day(169)]   \n",
       "48  28  1588503180  event   51.653115  [Day(77), Hour(10), Minute(53)]   \n",
       "49  32  1588517520  event   51.653115  [Day(77), Hour(14), Minute(52)]   \n",
       "50  42  1588550160  event   51.653115  [Day(77), Hour(23), Minute(56)]   \n",
       "51  22  1588481940  event   51.653115   [Day(77), Hour(4), Minute(59)]   \n",
       "52  23  1588487700  event   34.585189               [Day(77), Hour(6)]   \n",
       "53  54  1592410260  event   19.452169                        [Day(32)]   \n",
       "54   0  1578101400  event   19.452169                       [Day(197)]   \n",
       "55  57  1595008920  event   19.452169                         [Day(2)]   \n",
       "56  16  1587408540  event   19.452169                        [Day(90)]   \n",
       "57  10  1581238560  event   19.452169                       [Day(161)]   \n",
       "58  25  1588493220  event   51.653115    [Day(77), Hour(8), Minute(7)]   \n",
       "\n",
       "    memorability                date  \n",
       "0      11.040887 2020-07-10 19:34:00  \n",
       "1       3.643242 2020-05-03 17:09:00  \n",
       "2      11.040887 2020-06-16 19:17:00  \n",
       "3       9.186844 2020-05-03 14:31:00  \n",
       "4      11.040887 2020-01-19 05:06:00  \n",
       "5      11.040887 2020-01-27 05:06:00  \n",
       "6      11.040887 2020-05-14 09:22:00  \n",
       "7      11.040887 2020-06-19 08:50:00  \n",
       "8      11.040887 2020-05-28 09:05:00  \n",
       "9      11.040887 2020-03-01 21:04:00  \n",
       "10     11.040887 2020-03-26 04:32:00  \n",
       "11      3.643242 2020-05-03 07:12:00  \n",
       "12      9.186844 2020-05-03 08:48:00  \n",
       "13     11.040887 2020-01-16 19:11:00  \n",
       "14     11.040887 2020-06-03 12:40:00  \n",
       "15      9.186844 2020-05-03 04:40:00  \n",
       "16      3.643242 2020-05-03 18:22:00  \n",
       "17     11.040887 2020-05-13 05:17:00  \n",
       "18     11.040887 2020-06-14 18:05:00  \n",
       "19     11.040887 2020-05-01 03:39:00  \n",
       "20      3.643242 2020-05-03 19:39:00  \n",
       "21     11.040887 2020-03-14 07:06:00  \n",
       "22     11.040887 2020-02-02 12:41:00  \n",
       "23      9.186844 2020-05-03 04:41:00  \n",
       "24     11.040887 2020-05-22 20:09:00  \n",
       "25      3.643242 2020-05-03 16:08:00  \n",
       "26     11.040887 2020-05-05 02:16:00  \n",
       "27     11.040887 2020-05-20 08:39:00  \n",
       "28     11.040887 2020-07-18 09:11:00  \n",
       "29      9.186844 2020-05-03 21:09:00  \n",
       "30     11.040887 2020-05-18 11:33:00  \n",
       "31     11.040887 2020-06-06 03:33:00  \n",
       "32     11.040887 2020-01-29 18:27:00  \n",
       "33     11.040887 2020-02-17 21:39:00  \n",
       "34      3.643242 2020-05-03 01:23:00  \n",
       "35     11.040887 2020-01-14 06:58:00  \n",
       "36     11.040887 2020-03-17 10:42:00  \n",
       "37      9.186844 2020-05-03 10:42:00  \n",
       "38     11.040887 2020-01-23 18:57:00  \n",
       "39     11.040887 2020-02-07 21:05:00  \n",
       "40      3.643242 2020-05-03 03:29:00  \n",
       "41      9.186844 2020-05-03 10:57:00  \n",
       "42      9.186844 2020-05-03 15:28:00  \n",
       "43      9.186844 2020-05-03 21:52:00  \n",
       "44      9.186844 2020-05-03 23:28:00  \n",
       "45      3.643242 2020-05-03 13:03:00  \n",
       "46      9.186844 2020-05-03 15:11:00  \n",
       "47     11.040887 2020-02-01 23:41:00  \n",
       "48      9.186844 2020-05-03 10:53:00  \n",
       "49      9.186844 2020-05-03 14:52:00  \n",
       "50      9.186844 2020-05-03 23:56:00  \n",
       "51      9.186844 2020-05-03 04:59:00  \n",
       "52      3.643242 2020-05-03 06:35:00  \n",
       "53     11.040887 2020-06-17 16:11:00  \n",
       "54     11.040887 2020-01-04 01:30:00  \n",
       "55     11.040887 2020-07-17 18:02:00  \n",
       "56     11.040887 2020-04-20 18:49:00  \n",
       "57     11.040887 2020-02-09 08:56:00  \n",
       "58      9.186844 2020-05-03 08:07:00  "
      ]
     },
     "execution_count": 14,
     "metadata": {},
     "output_type": "execute_result"
    }
   ],
   "source": [
    "df = module.dataframe_output()\n",
    "df"
   ]
  },
  {
   "cell_type": "code",
   "execution_count": 16,
   "metadata": {},
   "outputs": [
    {
     "data": {
      "application/vnd.plotly.v1+json": {
       "config": {
        "plotlyServerURL": "https://plot.ly"
       },
       "data": [
        {
         "customdata": [
          [
           [
            "Day(9)"
           ]
          ],
          [
           [
            "Day(77)",
            "Hour(17)"
           ]
          ],
          [
           [
            "Day(33)"
           ]
          ],
          [
           [
            "Day(77)",
            "Hour(14)",
            "Minute(31)"
           ]
          ],
          [
           [
            "Day(182)"
           ]
          ],
          [
           [
            "Day(174)"
           ]
          ],
          [
           [
            "Day(66)"
           ]
          ],
          [
           [
            "Day(30)"
           ]
          ],
          [
           [
            "Day(52)"
           ]
          ],
          [
           [
            "Day(140)"
           ]
          ],
          [
           [
            "Day(115)"
           ]
          ],
          [
           [
            "Day(77)",
            "Hour(7)"
           ]
          ],
          [
           [
            "Day(77)",
            "Hour(8)",
            "Minute(48)"
           ]
          ],
          [
           [
            "Day(185)"
           ]
          ],
          [
           [
            "Day(46)"
           ]
          ],
          [
           [
            "Day(77)",
            "Hour(4)",
            "Minute(40)"
           ]
          ],
          [
           [
            "Day(77)",
            "Hour(18)"
           ]
          ],
          [
           [
            "Day(67)"
           ]
          ],
          [
           [
            "Day(35)"
           ]
          ],
          [
           [
            "Day(79)"
           ]
          ],
          [
           [
            "Day(77)",
            "Hour(19)"
           ]
          ],
          [
           [
            "Day(127)"
           ]
          ],
          [
           [
            "Day(168)"
           ]
          ],
          [
           [
            "Day(77)",
            "Hour(4)",
            "Minute(41)"
           ]
          ],
          [
           [
            "Day(58)"
           ]
          ],
          [
           [
            "Day(77)",
            "Hour(16)"
           ]
          ],
          [
           [
            "Day(75)"
           ]
          ],
          [
           [
            "Day(60)"
           ]
          ],
          [
           [
            "Day(1)"
           ]
          ],
          [
           [
            "Day(77)",
            "Hour(21)",
            "Minute(9)"
           ]
          ],
          [
           [
            "Day(62)"
           ]
          ],
          [
           [
            "Day(43)"
           ]
          ],
          [
           [
            "Day(172)"
           ]
          ],
          [
           [
            "Day(153)"
           ]
          ],
          [
           [
            "Day(77)",
            "Hour(1)"
           ]
          ],
          [
           [
            "Day(187)"
           ]
          ],
          [
           [
            "Day(124)"
           ]
          ],
          [
           [
            "Day(77)",
            "Hour(10)",
            "Minute(42)"
           ]
          ],
          [
           [
            "Day(178)"
           ]
          ],
          [
           [
            "Day(163)"
           ]
          ],
          [
           [
            "Day(77)",
            "Hour(3)"
           ]
          ],
          [
           [
            "Day(77)",
            "Hour(10)",
            "Minute(57)"
           ]
          ],
          [
           [
            "Day(77)",
            "Hour(15)",
            "Minute(28)"
           ]
          ],
          [
           [
            "Day(77)",
            "Hour(21)",
            "Minute(52)"
           ]
          ],
          [
           [
            "Day(77)",
            "Hour(23)",
            "Minute(28)"
           ]
          ],
          [
           [
            "Day(77)",
            "Hour(13)"
           ]
          ],
          [
           [
            "Day(77)",
            "Hour(15)",
            "Minute(11)"
           ]
          ],
          [
           [
            "Day(169)"
           ]
          ],
          [
           [
            "Day(77)",
            "Hour(10)",
            "Minute(53)"
           ]
          ],
          [
           [
            "Day(77)",
            "Hour(14)",
            "Minute(52)"
           ]
          ],
          [
           [
            "Day(77)",
            "Hour(23)",
            "Minute(56)"
           ]
          ],
          [
           [
            "Day(77)",
            "Hour(4)",
            "Minute(59)"
           ]
          ],
          [
           [
            "Day(77)",
            "Hour(6)"
           ]
          ],
          [
           [
            "Day(32)"
           ]
          ],
          [
           [
            "Day(197)"
           ]
          ],
          [
           [
            "Day(2)"
           ]
          ],
          [
           [
            "Day(90)"
           ]
          ],
          [
           [
            "Day(161)"
           ]
          ],
          [
           [
            "Day(77)",
            "Hour(8)",
            "Minute(7)"
           ]
          ]
         ],
         "hovertemplate": "date=%{x}<br>complexity=%{y}<br>recipe=%{customdata[0]}<extra></extra>",
         "legendgroup": "",
         "marker": {
          "color": "#636efa",
          "size": 10,
          "symbol": "circle"
         },
         "mode": "markers",
         "name": "",
         "orientation": "v",
         "showlegend": false,
         "type": "scatter",
         "x": [
          "2020-07-10T19:34:00",
          "2020-05-03T17:09:00",
          "2020-06-16T19:17:00",
          "2020-05-03T14:31:00",
          "2020-01-19T05:06:00",
          "2020-01-27T05:06:00",
          "2020-05-14T09:22:00",
          "2020-06-19T08:50:00",
          "2020-05-28T09:05:00",
          "2020-03-01T21:04:00",
          "2020-03-26T04:32:00",
          "2020-05-03T07:12:00",
          "2020-05-03T08:48:00",
          "2020-01-16T19:11:00",
          "2020-06-03T12:40:00",
          "2020-05-03T04:40:00",
          "2020-05-03T18:22:00",
          "2020-05-13T05:17:00",
          "2020-06-14T18:05:00",
          "2020-05-01T03:39:00",
          "2020-05-03T19:39:00",
          "2020-03-14T07:06:00",
          "2020-02-02T12:41:00",
          "2020-05-03T04:41:00",
          "2020-05-22T20:09:00",
          "2020-05-03T16:08:00",
          "2020-05-05T02:16:00",
          "2020-05-20T08:39:00",
          "2020-07-18T09:11:00",
          "2020-05-03T21:09:00",
          "2020-05-18T11:33:00",
          "2020-06-06T03:33:00",
          "2020-01-29T18:27:00",
          "2020-02-17T21:39:00",
          "2020-05-03T01:23:00",
          "2020-01-14T06:58:00",
          "2020-03-17T10:42:00",
          "2020-05-03T10:42:00",
          "2020-01-23T18:57:00",
          "2020-02-07T21:05:00",
          "2020-05-03T03:29:00",
          "2020-05-03T10:57:00",
          "2020-05-03T15:28:00",
          "2020-05-03T21:52:00",
          "2020-05-03T23:28:00",
          "2020-05-03T13:03:00",
          "2020-05-03T15:11:00",
          "2020-02-01T23:41:00",
          "2020-05-03T10:53:00",
          "2020-05-03T14:52:00",
          "2020-05-03T23:56:00",
          "2020-05-03T04:59:00",
          "2020-05-03T06:35:00",
          "2020-06-17T16:11:00",
          "2020-01-04T01:30:00",
          "2020-07-17T18:02:00",
          "2020-04-20T18:49:00",
          "2020-02-09T08:56:00",
          "2020-05-03T08:07:00"
         ],
         "xaxis": "x",
         "y": [
          19.452168830257513,
          34.58518901972211,
          19.452168830257513,
          51.653114859449595,
          19.452168830257513,
          19.452168830257513,
          19.452168830257513,
          19.452168830257513,
          19.452168830257513,
          19.452168830257513,
          19.452168830257513,
          34.58518901972211,
          51.653114859449595,
          19.452168830257513,
          19.452168830257513,
          51.653114859449595,
          34.58518901972211,
          19.452168830257513,
          19.452168830257513,
          19.452168830257513,
          34.58518901972211,
          19.452168830257513,
          19.452168830257513,
          51.653114859449595,
          19.452168830257513,
          34.58518901972211,
          19.452168830257513,
          19.452168830257513,
          19.452168830257513,
          51.653114859449595,
          19.452168830257513,
          19.452168830257513,
          19.452168830257513,
          19.452168830257513,
          34.58518901972211,
          19.452168830257513,
          19.452168830257513,
          51.653114859449595,
          19.452168830257513,
          19.452168830257513,
          34.58518901972211,
          51.653114859449595,
          51.653114859449595,
          51.653114859449595,
          51.653114859449595,
          34.58518901972211,
          51.653114859449595,
          19.452168830257513,
          51.653114859449595,
          51.653114859449595,
          51.653114859449595,
          51.653114859449595,
          34.58518901972211,
          19.452168830257513,
          19.452168830257513,
          19.452168830257513,
          19.452168830257513,
          19.452168830257513,
          51.653114859449595
         ],
         "yaxis": "y"
        }
       ],
       "layout": {
        "font": {
         "size": 25
        },
        "height": 800,
        "legend": {
         "tracegroupgap": 0
        },
        "margin": {
         "t": 60
        },
        "showlegend": false,
        "template": {
         "data": {
          "bar": [
           {
            "error_x": {
             "color": "#2a3f5f"
            },
            "error_y": {
             "color": "#2a3f5f"
            },
            "marker": {
             "line": {
              "color": "#E5ECF6",
              "width": 0.5
             },
             "pattern": {
              "fillmode": "overlay",
              "size": 10,
              "solidity": 0.2
             }
            },
            "type": "bar"
           }
          ],
          "barpolar": [
           {
            "marker": {
             "line": {
              "color": "#E5ECF6",
              "width": 0.5
             },
             "pattern": {
              "fillmode": "overlay",
              "size": 10,
              "solidity": 0.2
             }
            },
            "type": "barpolar"
           }
          ],
          "carpet": [
           {
            "aaxis": {
             "endlinecolor": "#2a3f5f",
             "gridcolor": "white",
             "linecolor": "white",
             "minorgridcolor": "white",
             "startlinecolor": "#2a3f5f"
            },
            "baxis": {
             "endlinecolor": "#2a3f5f",
             "gridcolor": "white",
             "linecolor": "white",
             "minorgridcolor": "white",
             "startlinecolor": "#2a3f5f"
            },
            "type": "carpet"
           }
          ],
          "choropleth": [
           {
            "colorbar": {
             "outlinewidth": 0,
             "ticks": ""
            },
            "type": "choropleth"
           }
          ],
          "contour": [
           {
            "colorbar": {
             "outlinewidth": 0,
             "ticks": ""
            },
            "colorscale": [
             [
              0,
              "#0d0887"
             ],
             [
              0.1111111111111111,
              "#46039f"
             ],
             [
              0.2222222222222222,
              "#7201a8"
             ],
             [
              0.3333333333333333,
              "#9c179e"
             ],
             [
              0.4444444444444444,
              "#bd3786"
             ],
             [
              0.5555555555555556,
              "#d8576b"
             ],
             [
              0.6666666666666666,
              "#ed7953"
             ],
             [
              0.7777777777777778,
              "#fb9f3a"
             ],
             [
              0.8888888888888888,
              "#fdca26"
             ],
             [
              1,
              "#f0f921"
             ]
            ],
            "type": "contour"
           }
          ],
          "contourcarpet": [
           {
            "colorbar": {
             "outlinewidth": 0,
             "ticks": ""
            },
            "type": "contourcarpet"
           }
          ],
          "heatmap": [
           {
            "colorbar": {
             "outlinewidth": 0,
             "ticks": ""
            },
            "colorscale": [
             [
              0,
              "#0d0887"
             ],
             [
              0.1111111111111111,
              "#46039f"
             ],
             [
              0.2222222222222222,
              "#7201a8"
             ],
             [
              0.3333333333333333,
              "#9c179e"
             ],
             [
              0.4444444444444444,
              "#bd3786"
             ],
             [
              0.5555555555555556,
              "#d8576b"
             ],
             [
              0.6666666666666666,
              "#ed7953"
             ],
             [
              0.7777777777777778,
              "#fb9f3a"
             ],
             [
              0.8888888888888888,
              "#fdca26"
             ],
             [
              1,
              "#f0f921"
             ]
            ],
            "type": "heatmap"
           }
          ],
          "heatmapgl": [
           {
            "colorbar": {
             "outlinewidth": 0,
             "ticks": ""
            },
            "colorscale": [
             [
              0,
              "#0d0887"
             ],
             [
              0.1111111111111111,
              "#46039f"
             ],
             [
              0.2222222222222222,
              "#7201a8"
             ],
             [
              0.3333333333333333,
              "#9c179e"
             ],
             [
              0.4444444444444444,
              "#bd3786"
             ],
             [
              0.5555555555555556,
              "#d8576b"
             ],
             [
              0.6666666666666666,
              "#ed7953"
             ],
             [
              0.7777777777777778,
              "#fb9f3a"
             ],
             [
              0.8888888888888888,
              "#fdca26"
             ],
             [
              1,
              "#f0f921"
             ]
            ],
            "type": "heatmapgl"
           }
          ],
          "histogram": [
           {
            "marker": {
             "pattern": {
              "fillmode": "overlay",
              "size": 10,
              "solidity": 0.2
             }
            },
            "type": "histogram"
           }
          ],
          "histogram2d": [
           {
            "colorbar": {
             "outlinewidth": 0,
             "ticks": ""
            },
            "colorscale": [
             [
              0,
              "#0d0887"
             ],
             [
              0.1111111111111111,
              "#46039f"
             ],
             [
              0.2222222222222222,
              "#7201a8"
             ],
             [
              0.3333333333333333,
              "#9c179e"
             ],
             [
              0.4444444444444444,
              "#bd3786"
             ],
             [
              0.5555555555555556,
              "#d8576b"
             ],
             [
              0.6666666666666666,
              "#ed7953"
             ],
             [
              0.7777777777777778,
              "#fb9f3a"
             ],
             [
              0.8888888888888888,
              "#fdca26"
             ],
             [
              1,
              "#f0f921"
             ]
            ],
            "type": "histogram2d"
           }
          ],
          "histogram2dcontour": [
           {
            "colorbar": {
             "outlinewidth": 0,
             "ticks": ""
            },
            "colorscale": [
             [
              0,
              "#0d0887"
             ],
             [
              0.1111111111111111,
              "#46039f"
             ],
             [
              0.2222222222222222,
              "#7201a8"
             ],
             [
              0.3333333333333333,
              "#9c179e"
             ],
             [
              0.4444444444444444,
              "#bd3786"
             ],
             [
              0.5555555555555556,
              "#d8576b"
             ],
             [
              0.6666666666666666,
              "#ed7953"
             ],
             [
              0.7777777777777778,
              "#fb9f3a"
             ],
             [
              0.8888888888888888,
              "#fdca26"
             ],
             [
              1,
              "#f0f921"
             ]
            ],
            "type": "histogram2dcontour"
           }
          ],
          "mesh3d": [
           {
            "colorbar": {
             "outlinewidth": 0,
             "ticks": ""
            },
            "type": "mesh3d"
           }
          ],
          "parcoords": [
           {
            "line": {
             "colorbar": {
              "outlinewidth": 0,
              "ticks": ""
             }
            },
            "type": "parcoords"
           }
          ],
          "pie": [
           {
            "automargin": true,
            "type": "pie"
           }
          ],
          "scatter": [
           {
            "marker": {
             "colorbar": {
              "outlinewidth": 0,
              "ticks": ""
             }
            },
            "type": "scatter"
           }
          ],
          "scatter3d": [
           {
            "line": {
             "colorbar": {
              "outlinewidth": 0,
              "ticks": ""
             }
            },
            "marker": {
             "colorbar": {
              "outlinewidth": 0,
              "ticks": ""
             }
            },
            "type": "scatter3d"
           }
          ],
          "scattercarpet": [
           {
            "marker": {
             "colorbar": {
              "outlinewidth": 0,
              "ticks": ""
             }
            },
            "type": "scattercarpet"
           }
          ],
          "scattergeo": [
           {
            "marker": {
             "colorbar": {
              "outlinewidth": 0,
              "ticks": ""
             }
            },
            "type": "scattergeo"
           }
          ],
          "scattergl": [
           {
            "marker": {
             "colorbar": {
              "outlinewidth": 0,
              "ticks": ""
             }
            },
            "type": "scattergl"
           }
          ],
          "scattermapbox": [
           {
            "marker": {
             "colorbar": {
              "outlinewidth": 0,
              "ticks": ""
             }
            },
            "type": "scattermapbox"
           }
          ],
          "scatterpolar": [
           {
            "marker": {
             "colorbar": {
              "outlinewidth": 0,
              "ticks": ""
             }
            },
            "type": "scatterpolar"
           }
          ],
          "scatterpolargl": [
           {
            "marker": {
             "colorbar": {
              "outlinewidth": 0,
              "ticks": ""
             }
            },
            "type": "scatterpolargl"
           }
          ],
          "scatterternary": [
           {
            "marker": {
             "colorbar": {
              "outlinewidth": 0,
              "ticks": ""
             }
            },
            "type": "scatterternary"
           }
          ],
          "surface": [
           {
            "colorbar": {
             "outlinewidth": 0,
             "ticks": ""
            },
            "colorscale": [
             [
              0,
              "#0d0887"
             ],
             [
              0.1111111111111111,
              "#46039f"
             ],
             [
              0.2222222222222222,
              "#7201a8"
             ],
             [
              0.3333333333333333,
              "#9c179e"
             ],
             [
              0.4444444444444444,
              "#bd3786"
             ],
             [
              0.5555555555555556,
              "#d8576b"
             ],
             [
              0.6666666666666666,
              "#ed7953"
             ],
             [
              0.7777777777777778,
              "#fb9f3a"
             ],
             [
              0.8888888888888888,
              "#fdca26"
             ],
             [
              1,
              "#f0f921"
             ]
            ],
            "type": "surface"
           }
          ],
          "table": [
           {
            "cells": {
             "fill": {
              "color": "#EBF0F8"
             },
             "line": {
              "color": "white"
             }
            },
            "header": {
             "fill": {
              "color": "#C8D4E3"
             },
             "line": {
              "color": "white"
             }
            },
            "type": "table"
           }
          ]
         },
         "layout": {
          "annotationdefaults": {
           "arrowcolor": "#2a3f5f",
           "arrowhead": 0,
           "arrowwidth": 1
          },
          "autotypenumbers": "strict",
          "coloraxis": {
           "colorbar": {
            "outlinewidth": 0,
            "ticks": ""
           }
          },
          "colorscale": {
           "diverging": [
            [
             0,
             "#8e0152"
            ],
            [
             0.1,
             "#c51b7d"
            ],
            [
             0.2,
             "#de77ae"
            ],
            [
             0.3,
             "#f1b6da"
            ],
            [
             0.4,
             "#fde0ef"
            ],
            [
             0.5,
             "#f7f7f7"
            ],
            [
             0.6,
             "#e6f5d0"
            ],
            [
             0.7,
             "#b8e186"
            ],
            [
             0.8,
             "#7fbc41"
            ],
            [
             0.9,
             "#4d9221"
            ],
            [
             1,
             "#276419"
            ]
           ],
           "sequential": [
            [
             0,
             "#0d0887"
            ],
            [
             0.1111111111111111,
             "#46039f"
            ],
            [
             0.2222222222222222,
             "#7201a8"
            ],
            [
             0.3333333333333333,
             "#9c179e"
            ],
            [
             0.4444444444444444,
             "#bd3786"
            ],
            [
             0.5555555555555556,
             "#d8576b"
            ],
            [
             0.6666666666666666,
             "#ed7953"
            ],
            [
             0.7777777777777778,
             "#fb9f3a"
            ],
            [
             0.8888888888888888,
             "#fdca26"
            ],
            [
             1,
             "#f0f921"
            ]
           ],
           "sequentialminus": [
            [
             0,
             "#0d0887"
            ],
            [
             0.1111111111111111,
             "#46039f"
            ],
            [
             0.2222222222222222,
             "#7201a8"
            ],
            [
             0.3333333333333333,
             "#9c179e"
            ],
            [
             0.4444444444444444,
             "#bd3786"
            ],
            [
             0.5555555555555556,
             "#d8576b"
            ],
            [
             0.6666666666666666,
             "#ed7953"
            ],
            [
             0.7777777777777778,
             "#fb9f3a"
            ],
            [
             0.8888888888888888,
             "#fdca26"
            ],
            [
             1,
             "#f0f921"
            ]
           ]
          },
          "colorway": [
           "#636efa",
           "#EF553B",
           "#00cc96",
           "#ab63fa",
           "#FFA15A",
           "#19d3f3",
           "#FF6692",
           "#B6E880",
           "#FF97FF",
           "#FECB52"
          ],
          "font": {
           "color": "#2a3f5f"
          },
          "geo": {
           "bgcolor": "white",
           "lakecolor": "white",
           "landcolor": "#E5ECF6",
           "showlakes": true,
           "showland": true,
           "subunitcolor": "white"
          },
          "hoverlabel": {
           "align": "left"
          },
          "hovermode": "closest",
          "mapbox": {
           "style": "light"
          },
          "paper_bgcolor": "white",
          "plot_bgcolor": "#E5ECF6",
          "polar": {
           "angularaxis": {
            "gridcolor": "white",
            "linecolor": "white",
            "ticks": ""
           },
           "bgcolor": "#E5ECF6",
           "radialaxis": {
            "gridcolor": "white",
            "linecolor": "white",
            "ticks": ""
           }
          },
          "scene": {
           "xaxis": {
            "backgroundcolor": "#E5ECF6",
            "gridcolor": "white",
            "gridwidth": 2,
            "linecolor": "white",
            "showbackground": true,
            "ticks": "",
            "zerolinecolor": "white"
           },
           "yaxis": {
            "backgroundcolor": "#E5ECF6",
            "gridcolor": "white",
            "gridwidth": 2,
            "linecolor": "white",
            "showbackground": true,
            "ticks": "",
            "zerolinecolor": "white"
           },
           "zaxis": {
            "backgroundcolor": "#E5ECF6",
            "gridcolor": "white",
            "gridwidth": 2,
            "linecolor": "white",
            "showbackground": true,
            "ticks": "",
            "zerolinecolor": "white"
           }
          },
          "shapedefaults": {
           "line": {
            "color": "#2a3f5f"
           }
          },
          "ternary": {
           "aaxis": {
            "gridcolor": "white",
            "linecolor": "white",
            "ticks": ""
           },
           "baxis": {
            "gridcolor": "white",
            "linecolor": "white",
            "ticks": ""
           },
           "bgcolor": "#E5ECF6",
           "caxis": {
            "gridcolor": "white",
            "linecolor": "white",
            "ticks": ""
           }
          },
          "title": {
           "x": 0.05
          },
          "xaxis": {
           "automargin": true,
           "gridcolor": "white",
           "linecolor": "white",
           "ticks": "",
           "title": {
            "standoff": 15
           },
           "zerolinecolor": "white",
           "zerolinewidth": 2
          },
          "yaxis": {
           "automargin": true,
           "gridcolor": "white",
           "linecolor": "white",
           "ticks": "",
           "title": {
            "standoff": 15
           },
           "zerolinecolor": "white",
           "zerolinewidth": 2
          }
         }
        },
        "xaxis": {
         "anchor": "y",
         "domain": [
          0,
          1
         ],
         "title": {
          "text": "date"
         }
        },
        "yaxis": {
         "anchor": "x",
         "domain": [
          0,
          1
         ],
         "title": {
          "text": "complexity"
         }
        }
       }
      }
     },
     "metadata": {},
     "output_type": "display_data"
    }
   ],
   "source": [
    "fig = px.scatter(df, x=\"date\", y=\"complexity\", hover_data=['recipe'], height=800)\n",
    "fig.update_traces(marker={'size':10})\n",
    "fig.update_layout(\n",
    "    showlegend=False,\n",
    "    font=dict(\n",
    "        size=25\n",
    "    )\n",
    ")"
   ]
  }
 ],
 "metadata": {
  "interpreter": {
   "hash": "077c135ae334fe9df4ebab61b07d2505e3535e22da55a129d2d106477e1e0728"
  },
  "kernelspec": {
   "display_name": "Python 3.9.7 64-bit ('venv': venv)",
   "language": "python",
   "name": "python3"
  },
  "language_info": {
   "codemirror_mode": {
    "name": "ipython",
    "version": 3
   },
   "file_extension": ".py",
   "mimetype": "text/x-python",
   "name": "python",
   "nbconvert_exporter": "python",
   "pygments_lexer": "ipython3",
   "version": "3.10.2"
  },
  "orig_nbformat": 4
 },
 "nbformat": 4,
 "nbformat_minor": 2
}
